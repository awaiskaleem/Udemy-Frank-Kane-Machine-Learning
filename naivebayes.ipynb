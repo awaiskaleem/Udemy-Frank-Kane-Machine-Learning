{
 "cells": [
  {
   "cell_type": "markdown",
   "metadata": {},
   "source": [
    "# Naive Bayes (the easy way)"
   ]
  },
  {
   "cell_type": "markdown",
   "metadata": {},
   "source": [
    "We'll cheat by using sklearn.naive_bayes to train a spam classifier! Most of the code is just loading our training data into a pandas DataFrame that we can play with:"
   ]
  },
  {
   "cell_type": "code",
   "execution_count": 122,
   "metadata": {
    "collapsed": false
   },
   "outputs": [],
   "source": [
    "import os\n",
    "import io\n",
    "import numpy\n",
    "from pandas import DataFrame\n",
    "from sklearn.feature_extraction.text import CountVectorizer\n",
    "from sklearn.naive_bayes import MultinomialNB\n",
    "\n",
    "def readFiles(path):\n",
    "    for root, dirnames, filenames in os.walk(path):\n",
    "        #parses through all files in path\n",
    "        for filename in filenames:\n",
    "            path = os.path.join(root, filename)\n",
    "\n",
    "            inBody = False\n",
    "            lines = []\n",
    "            f = io.open(path, 'r', encoding='latin1')\n",
    "            #read each line of the file\n",
    "            for line in f:\n",
    "                if inBody:\n",
    "                    lines.append(line)\n",
    "                elif line == '\\n':\n",
    "                    inBody = True\n",
    "            f.close()\n",
    "            message = '\\n'.join(lines)\n",
    "            #this way it keeps on returning rows back to parent function \"dataFrameFromDirectory\"\n",
    "            #and hence keeps the parents for loop running\n",
    "            #EXCELLENT STUFF BY PYTHON! eh! \n",
    "            yield path, message\n",
    "\n",
    "\n",
    "def dataFrameFromDirectory(path, classification):\n",
    "    rows = []\n",
    "    index = []\n",
    "    for filename, message in readFiles(path):\n",
    "        rows.append({'message': message, 'class': classification})\n",
    "        index.append(filename)\n",
    "\n",
    "    return DataFrame(rows, index=index)\n",
    "\n",
    "data = DataFrame({'message': [], 'class': []})\n",
    "dataTest = DataFrame({'message': [], 'class': []})\n",
    "\n",
    "\n",
    "data = data.append(dataFrameFromDirectory('E:/2- GoogleDrive (Total 15GB)/Interests/Machine Learning/Udemy - Data Science and Machine Learning with Python/DataScience/emails/spam', 'spam'))\n",
    "data = data.append(dataFrameFromDirectory('E:/2- GoogleDrive (Total 15GB)/Interests/Machine Learning/Udemy - Data Science and Machine Learning with Python/DataScience/emails/ham', 'ham'))\n",
    "\n",
    "dataHam = dataTest.append(dataFrameFromDirectory('E:/2- GoogleDrive (Total 15GB)/Interests/Machine Learning/Udemy - Data Science and Machine Learning with Python/DataScience/emails/ham', 'ham'))\n",
    "dataSpam = dataTest.append(dataFrameFromDirectory('E:/2- GoogleDrive (Total 15GB)/Interests/Machine Learning/Udemy - Data Science and Machine Learning with Python/DataScience/emails/spam', 'spam'))\n",
    "\n",
    "trainData = data[80:]\n",
    "testData = data[:80]\n"
   ]
  },
  {
   "cell_type": "markdown",
   "metadata": {},
   "source": [
    "Let's have a look at that DataFrame:"
   ]
  },
  {
   "cell_type": "code",
   "execution_count": 42,
   "metadata": {
    "collapsed": false
   },
   "outputs": [
    {
     "data": {
      "text/html": [
       "<div>\n",
       "<table border=\"1\" class=\"dataframe\">\n",
       "  <thead>\n",
       "    <tr style=\"text-align: right;\">\n",
       "      <th></th>\n",
       "      <th>class</th>\n",
       "      <th>message</th>\n",
       "    </tr>\n",
       "  </thead>\n",
       "  <tbody>\n",
       "    <tr>\n",
       "      <th>E:/2- GoogleDrive (Total 15GB)/Interests/Machine Learning/Udemy - Data Science and Machine Learning with Python/DataScience/emails/spam\\00081.123b29a781b2e8c83763e5d440e672a3</th>\n",
       "      <td>spam</td>\n",
       "      <td>=================================\\n\\n\\n\\nGuara...</td>\n",
       "    </tr>\n",
       "    <tr>\n",
       "      <th>E:/2- GoogleDrive (Total 15GB)/Interests/Machine Learning/Udemy - Data Science and Machine Learning with Python/DataScience/emails/spam\\00082.0341a767bbaca01fd89b6236ef681257</th>\n",
       "      <td>spam</td>\n",
       "      <td>This message is in MIME format. Since your mai...</td>\n",
       "    </tr>\n",
       "    <tr>\n",
       "      <th>E:/2- GoogleDrive (Total 15GB)/Interests/Machine Learning/Udemy - Data Science and Machine Learning with Python/DataScience/emails/spam\\00083.c1891c507954e5b75b72b16712e799bf</th>\n",
       "      <td>spam</td>\n",
       "      <td>&lt;HTML&gt;&lt;HEAD&gt;&lt;TITLE&gt;Lowest Rate Services&lt;/TITLE...</td>\n",
       "    </tr>\n",
       "    <tr>\n",
       "      <th>E:/2- GoogleDrive (Total 15GB)/Interests/Machine Learning/Udemy - Data Science and Machine Learning with Python/DataScience/emails/spam\\00084.a9f5b3a9b7feb7070f25ae76320c8ec6</th>\n",
       "      <td>spam</td>\n",
       "      <td>Dear Sir,\\n\\n\\n\\nI am Dr James Alabi, the chai...</td>\n",
       "    </tr>\n",
       "    <tr>\n",
       "      <th>E:/2- GoogleDrive (Total 15GB)/Interests/Machine Learning/Udemy - Data Science and Machine Learning with Python/DataScience/emails/spam\\00085.f63a9484ac582233db057dbb45dc0eaf</th>\n",
       "      <td>spam</td>\n",
       "      <td>HELLO...By reading the short Summary just belo...</td>\n",
       "    </tr>\n",
       "  </tbody>\n",
       "</table>\n",
       "</div>"
      ],
      "text/plain": [
       "                                                   class  \\\n",
       "E:/2- GoogleDrive (Total 15GB)/Interests/Machin...  spam   \n",
       "E:/2- GoogleDrive (Total 15GB)/Interests/Machin...  spam   \n",
       "E:/2- GoogleDrive (Total 15GB)/Interests/Machin...  spam   \n",
       "E:/2- GoogleDrive (Total 15GB)/Interests/Machin...  spam   \n",
       "E:/2- GoogleDrive (Total 15GB)/Interests/Machin...  spam   \n",
       "\n",
       "                                                                                              message  \n",
       "E:/2- GoogleDrive (Total 15GB)/Interests/Machin...  =================================\\n\\n\\n\\nGuara...  \n",
       "E:/2- GoogleDrive (Total 15GB)/Interests/Machin...  This message is in MIME format. Since your mai...  \n",
       "E:/2- GoogleDrive (Total 15GB)/Interests/Machin...  <HTML><HEAD><TITLE>Lowest Rate Services</TITLE...  \n",
       "E:/2- GoogleDrive (Total 15GB)/Interests/Machin...  Dear Sir,\\n\\n\\n\\nI am Dr James Alabi, the chai...  \n",
       "E:/2- GoogleDrive (Total 15GB)/Interests/Machin...  HELLO...By reading the short Summary just belo...  "
      ]
     },
     "execution_count": 42,
     "metadata": {},
     "output_type": "execute_result"
    }
   ],
   "source": [
    "trainData.head()"
   ]
  },
  {
   "cell_type": "markdown",
   "metadata": {},
   "source": [
    "Now we will use a CountVectorizer to split up each message into its list of words, and throw that into a MultinomialNB classifier. Call fit() and we've got a trained spam filter ready to go! It's just that easy."
   ]
  },
  {
   "cell_type": "code",
   "execution_count": 32,
   "metadata": {
    "collapsed": false
   },
   "outputs": [
    {
     "data": {
      "text/plain": [
       "MultinomialNB(alpha=1.0, class_prior=None, fit_prior=True)"
      ]
     },
     "execution_count": 32,
     "metadata": {},
     "output_type": "execute_result"
    }
   ],
   "source": [
    "vectorizer = CountVectorizer()\n",
    "counts = vectorizer.fit_transform(trainData['message'].values)\n",
    "targets = trainData['class'].values\n",
    "\n",
    "classifier = MultinomialNB()\n",
    "classifier.fit(counts, targets)"
   ]
  },
  {
   "cell_type": "markdown",
   "metadata": {},
   "source": [
    "Let's try it out:"
   ]
  },
  {
   "cell_type": "code",
   "execution_count": 56,
   "metadata": {
    "collapsed": false
   },
   "outputs": [
    {
     "data": {
      "text/plain": [
       "array(['spam', 'ham'], \n",
       "      dtype='|S4')"
      ]
     },
     "execution_count": 56,
     "metadata": {},
     "output_type": "execute_result"
    }
   ],
   "source": [
    "examples = ['Free Viagra now!!!', \"Hi Bob, how about a game of golf tomorrow?\"]\n",
    "example_counts = vectorizer.transform(examples)\n",
    "predictions = classifier.predict(example_counts)\n",
    "predictions"
   ]
  },
  {
   "cell_type": "markdown",
   "metadata": {},
   "source": [
    "----------\n",
    "Now we are going to input all HAM/SPAM emails and see how many are correctly marked as SPAM/HAM\n",
    "----------"
   ]
  },
  {
   "cell_type": "code",
   "execution_count": 123,
   "metadata": {
    "collapsed": false
   },
   "outputs": [
    {
     "name": "stdout",
     "output_type": "stream",
     "text": [
      "100% HAM emails are correctly identified\n"
     ]
    }
   ],
   "source": [
    "ham_counts = vectorizer.transform(dataHam['message'])\n",
    "predictions_ham = classifier.predict(ham_counts)\n",
    "\n",
    "\n",
    "from collections import Counter\n",
    "c = Counter(predictions_ham)\n",
    "#c.items() #this simply gives you count of distinct values in the array\n",
    "\n",
    "results = DataFrame(sorted(c.items()))\n",
    "print str(100-(results[1][1]*100)/(results[1][0]+results[1][1])) + \"% HAM emails are correctly identified\"\n",
    "\n"
   ]
  },
  {
   "cell_type": "code",
   "execution_count": 125,
   "metadata": {
    "collapsed": false
   },
   "outputs": [
    {
     "name": "stdout",
     "output_type": "stream",
     "text": [
      "83% SPAM emails are correctly identified\n"
     ]
    }
   ],
   "source": [
    "spam_counts = vectorizer.transform(dataSpam['message'])\n",
    "predictions_spam = classifier.predict(spam_counts)\n",
    "\n",
    "\n",
    "from collections import Counter\n",
    "c = Counter(predictions_spam)\n",
    "#c.items() #this simply gives you count of distinct values in the array\n",
    "\n",
    "results = DataFrame(sorted(c.items()))\n",
    "print str(100-(results[1][0]*100)/(results[1][0]+results[1][1])) + \"% SPAM emails are correctly identified\"\n",
    "\n",
    "\n"
   ]
  },
  {
   "cell_type": "markdown",
   "metadata": {},
   "source": [
    "## Activity"
   ]
  },
  {
   "cell_type": "markdown",
   "metadata": {},
   "source": [
    "Our data set is small, so our spam classifier isn't actually very good. Try running some different test emails through it and see if you get the results you expect.\n",
    "\n",
    "If you really want to challenge yourself, try applying train/test to this spam classifier - see how well it can predict some subset of the ham and spam emails."
   ]
  },
  {
   "cell_type": "code",
   "execution_count": 39,
   "metadata": {
    "collapsed": false
   },
   "outputs": [
    {
     "data": {
      "text/plain": [
       "class      80\n",
       "message    80\n",
       "dtype: int64"
      ]
     },
     "execution_count": 39,
     "metadata": {},
     "output_type": "execute_result"
    }
   ],
   "source": [
    "testData.count()"
   ]
  },
  {
   "cell_type": "code",
   "execution_count": null,
   "metadata": {
    "collapsed": true
   },
   "outputs": [],
   "source": []
  }
 ],
 "metadata": {
  "kernelspec": {
   "display_name": "Python 2",
   "language": "python",
   "name": "python2"
  },
  "language_info": {
   "codemirror_mode": {
    "name": "ipython",
    "version": 2
   },
   "file_extension": ".py",
   "mimetype": "text/x-python",
   "name": "python",
   "nbconvert_exporter": "python",
   "pygments_lexer": "ipython2",
   "version": "2.7.11"
  }
 },
 "nbformat": 4,
 "nbformat_minor": 0
}
